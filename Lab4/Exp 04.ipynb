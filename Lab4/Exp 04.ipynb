{
 "cells": [
  {
   "cell_type": "code",
   "execution_count": 2,
   "metadata": {
    "collapsed": true,
    "ExecuteTime": {
     "end_time": "2024-02-15T04:19:23.421230Z",
     "start_time": "2024-02-15T04:19:23.416729Z"
    }
   },
   "outputs": [],
   "source": [
    "# Perform Hypothesis Testing\n",
    "import pandas as pd\n",
    "import scipy\n",
    "import numpy as np\n",
    "from scipy import stats"
   ]
  },
  {
   "cell_type": "code",
   "execution_count": 3,
   "outputs": [
    {
     "data": {
      "text/plain": "0.9857070911974259"
     },
     "execution_count": 3,
     "metadata": {},
     "output_type": "execute_result"
    }
   ],
   "source": [
    "stats.t.cdf(2.23, df=79)"
   ],
   "metadata": {
    "collapsed": false,
    "ExecuteTime": {
     "end_time": "2024-02-15T04:20:10.768815Z",
     "start_time": "2024-02-15T04:20:10.739733Z"
    }
   }
  },
  {
   "cell_type": "code",
   "execution_count": null,
   "outputs": [],
   "source": [
    "\"\"\"\n",
    "An outbreak of Salmonella-related illness was attributed to ice cream produced at a certain factory. Scientists measured the level of Salmonella in 9 randomly sampled batches of ice cream. The levels (in MPN/g) were:\n",
    "\n",
    "0.593 0.142 0.329 0.691 0.231 0.793 0.519 0.392 0.418\n",
    "Is there evidence that the mean level of Salmonella in the ice cream is greater than 0.3 MPN/g?\n",
    "\"\"\""
   ],
   "metadata": {
    "collapsed": false
   }
  },
  {
   "cell_type": "code",
   "execution_count": 4,
   "outputs": [],
   "source": [
    "data = pd.Series([0.593, 0.142, 0.329, 0.691, 0.231, 0.793, 0.519, 0.392, 0.418])\n",
    "\n",
    "p=scipy.stats.ttest_1samp(data,0.3)[1]\n",
    "p_value= p/2"
   ],
   "metadata": {
    "collapsed": false,
    "ExecuteTime": {
     "end_time": "2024-02-15T05:29:18.211079Z",
     "start_time": "2024-02-15T05:29:18.180470Z"
    }
   }
  },
  {
   "cell_type": "code",
   "execution_count": 5,
   "outputs": [
    {
     "data": {
      "text/plain": "0.029265164842448826"
     },
     "execution_count": 5,
     "metadata": {},
     "output_type": "execute_result"
    }
   ],
   "source": [
    "p/2"
   ],
   "metadata": {
    "collapsed": false,
    "ExecuteTime": {
     "end_time": "2024-02-15T05:29:19.076876Z",
     "start_time": "2024-02-15T05:29:19.062710Z"
    }
   }
  },
  {
   "cell_type": "code",
   "execution_count": null,
   "outputs": [],
   "source": [
    "\"\"\"\n",
    "Six subjects were given a drug (treatment group) and an additional 6 subjects a placebo (control group). Their reaction time to a stimulus was measured (in ms). We want to perform a two-sample t-test for comparing the means of the treatment and control groups. The control group’s reaction times were 91, 87, 99, 77, 88, 91. The treatment group’s reaction times were 101, 110, 103, 93, 99, 104. Is there a difference in reaction times between the two groups? Use a graphing calculator to perform a two sample t test. Assuming the conditions have been met, what is the p-value for this two sample test? \"\"\""
   ],
   "metadata": {
    "collapsed": false
   }
  },
  {
   "cell_type": "markdown",
   "source": [
    "Let 1 be the mean of the population taking medicine and 2 the mean of the untreated\n",
    "population. Here the hypothesis of interest can be expressed as:\n",
    "H0: u1- u2=0\n",
    "Ha: u1- u2<0"
   ],
   "metadata": {
    "collapsed": false
   }
  },
  {
   "cell_type": "code",
   "execution_count": 6,
   "outputs": [
    {
     "name": "stdout",
     "output_type": "stream",
     "text": [
      "t-statistic: -3.4456126735364876\n",
      "p-value: 0.0031360621754049013\n"
     ]
    }
   ],
   "source": [
    "from scipy import stats\n",
    "\n",
    "Control = [91, 87, 99, 77, 88, 91]\n",
    "Treat = [101, 110, 103, 93, 99, 104]\n",
    "\n",
    "# Perform two-sample t-test\n",
    "t_statistic, p_value = stats.ttest_ind(Control, Treat, alternative='less', equal_var=True)\n",
    "\n",
    "print(\"t-statistic:\", t_statistic)\n",
    "print(\"p-value:\", p_value)"
   ],
   "metadata": {
    "collapsed": false,
    "ExecuteTime": {
     "end_time": "2024-02-15T05:32:53.048282Z",
     "start_time": "2024-02-15T05:32:53.042964Z"
    }
   }
  },
  {
   "cell_type": "code",
   "execution_count": 10,
   "outputs": [
    {
     "name": "stdout",
     "output_type": "stream",
     "text": [
      "t-statistic: -3.4456126735364876\n",
      "p-value: 0.0031360621754049013\n"
     ]
    }
   ],
   "source": [
    "# Perform one-tailed independent samples t-test\n",
    "t_statistic, p_value = stats.ttest_ind(Control, Treat, alternative='less')\n",
    "\n",
    "print(\"t-statistic:\", t_statistic)\n",
    "print(\"p-value:\", p_value)"
   ],
   "metadata": {
    "collapsed": false,
    "ExecuteTime": {
     "end_time": "2024-02-15T05:34:34.615483Z",
     "start_time": "2024-02-15T05:34:34.612977Z"
    }
   }
  },
  {
   "cell_type": "code",
   "execution_count": null,
   "outputs": [],
   "source": [],
   "metadata": {
    "collapsed": false
   }
  }
 ],
 "metadata": {
  "kernelspec": {
   "display_name": "Python 3",
   "language": "python",
   "name": "python3"
  },
  "language_info": {
   "codemirror_mode": {
    "name": "ipython",
    "version": 2
   },
   "file_extension": ".py",
   "mimetype": "text/x-python",
   "name": "python",
   "nbconvert_exporter": "python",
   "pygments_lexer": "ipython2",
   "version": "2.7.6"
  }
 },
 "nbformat": 4,
 "nbformat_minor": 0
}
